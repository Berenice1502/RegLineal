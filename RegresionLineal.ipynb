{
  "nbformat": 4,
  "nbformat_minor": 0,
  "metadata": {
    "colab": {
      "name": "RegresionLineal.ipynb",
      "provenance": [],
      "collapsed_sections": []
    },
    "kernelspec": {
      "name": "python3",
      "display_name": "Python 3"
    }
  },
  "cells": [
    {
      "cell_type": "code",
      "metadata": {
        "id": "QCF-3ywWipGd",
        "colab_type": "code",
        "colab": {
          "base_uri": "https://localhost:8080/",
          "height": 436
        },
        "outputId": "7bec3457-5c53-4db3-fe87-2db3c94872fb"
      },
      "source": [
        "import numpy as np\n",
        "import matplotlib.pyplot as plt\n",
        "import pandas as pd\n",
        "from sklearn.linear_model import LinearRegression\n",
        "from google.colab import drive\n",
        "drive.mount('/content/gdrive')\n",
        "df = pd.read_csv('gdrive/My Drive/Colab Notebooks/d1.csv',header=0,index_col=False)\n",
        "df #Es un diccionario "
      ],
      "execution_count": null,
      "outputs": [
        {
          "output_type": "stream",
          "text": [
            "Drive already mounted at /content/gdrive; to attempt to forcibly remount, call drive.mount(\"/content/gdrive\", force_remount=True).\n"
          ],
          "name": "stdout"
        },
        {
          "output_type": "execute_result",
          "data": {
            "text/html": [
              "<div>\n",
              "<style scoped>\n",
              "    .dataframe tbody tr th:only-of-type {\n",
              "        vertical-align: middle;\n",
              "    }\n",
              "\n",
              "    .dataframe tbody tr th {\n",
              "        vertical-align: top;\n",
              "    }\n",
              "\n",
              "    .dataframe thead th {\n",
              "        text-align: right;\n",
              "    }\n",
              "</style>\n",
              "<table border=\"1\" class=\"dataframe\">\n",
              "  <thead>\n",
              "    <tr style=\"text-align: right;\">\n",
              "      <th></th>\n",
              "      <th>D</th>\n",
              "      <th>A5</th>\n",
              "      <th>A4</th>\n",
              "      <th>A3</th>\n",
              "      <th>A2</th>\n",
              "      <th>A1</th>\n",
              "    </tr>\n",
              "  </thead>\n",
              "  <tbody>\n",
              "    <tr>\n",
              "      <th>0</th>\n",
              "      <td>260</td>\n",
              "      <td>21.4360</td>\n",
              "      <td>19.5742</td>\n",
              "      <td>19.3240</td>\n",
              "      <td>17.6725</td>\n",
              "      <td>18.6700</td>\n",
              "    </tr>\n",
              "    <tr>\n",
              "      <th>1</th>\n",
              "      <td>259</td>\n",
              "      <td>21.3520</td>\n",
              "      <td>19.5373</td>\n",
              "      <td>19.1830</td>\n",
              "      <td>17.7915</td>\n",
              "      <td>18.3820</td>\n",
              "    </tr>\n",
              "    <tr>\n",
              "      <th>2</th>\n",
              "      <td>258</td>\n",
              "      <td>21.7600</td>\n",
              "      <td>19.7442</td>\n",
              "      <td>19.3427</td>\n",
              "      <td>17.9015</td>\n",
              "      <td>18.2730</td>\n",
              "    </tr>\n",
              "    <tr>\n",
              "      <th>3</th>\n",
              "      <td>257</td>\n",
              "      <td>21.6195</td>\n",
              "      <td>19.7186</td>\n",
              "      <td>19.4035</td>\n",
              "      <td>17.8730</td>\n",
              "      <td>18.5650</td>\n",
              "    </tr>\n",
              "    <tr>\n",
              "      <th>4</th>\n",
              "      <td>256</td>\n",
              "      <td>21.5660</td>\n",
              "      <td>19.9732</td>\n",
              "      <td>19.1927</td>\n",
              "      <td>17.8160</td>\n",
              "      <td>18.5800</td>\n",
              "    </tr>\n",
              "    <tr>\n",
              "      <th>...</th>\n",
              "      <td>...</td>\n",
              "      <td>...</td>\n",
              "      <td>...</td>\n",
              "      <td>...</td>\n",
              "      <td>...</td>\n",
              "      <td>...</td>\n",
              "    </tr>\n",
              "    <tr>\n",
              "      <th>255</th>\n",
              "      <td>5</td>\n",
              "      <td>19.4557</td>\n",
              "      <td>18.8380</td>\n",
              "      <td>17.6620</td>\n",
              "      <td>19.3470</td>\n",
              "      <td>16.6000</td>\n",
              "    </tr>\n",
              "    <tr>\n",
              "      <th>256</th>\n",
              "      <td>4</td>\n",
              "      <td>19.3975</td>\n",
              "      <td>18.8882</td>\n",
              "      <td>17.6661</td>\n",
              "      <td>19.2740</td>\n",
              "      <td>16.5517</td>\n",
              "    </tr>\n",
              "    <tr>\n",
              "      <th>257</th>\n",
              "      <td>3</td>\n",
              "      <td>19.3627</td>\n",
              "      <td>18.8335</td>\n",
              "      <td>17.7493</td>\n",
              "      <td>19.0800</td>\n",
              "      <td>16.6901</td>\n",
              "    </tr>\n",
              "    <tr>\n",
              "      <th>258</th>\n",
              "      <td>2</td>\n",
              "      <td>19.4405</td>\n",
              "      <td>19.0177</td>\n",
              "      <td>17.7300</td>\n",
              "      <td>18.8140</td>\n",
              "      <td>16.7540</td>\n",
              "    </tr>\n",
              "    <tr>\n",
              "      <th>259</th>\n",
              "      <td>1</td>\n",
              "      <td>19.4058</td>\n",
              "      <td>19.1870</td>\n",
              "      <td>17.6675</td>\n",
              "      <td>18.9120</td>\n",
              "      <td>16.8376</td>\n",
              "    </tr>\n",
              "  </tbody>\n",
              "</table>\n",
              "<p>260 rows × 6 columns</p>\n",
              "</div>"
            ],
            "text/plain": [
              "       D       A5       A4       A3       A2       A1\n",
              "0    260  21.4360  19.5742  19.3240  17.6725  18.6700\n",
              "1    259  21.3520  19.5373  19.1830  17.7915  18.3820\n",
              "2    258  21.7600  19.7442  19.3427  17.9015  18.2730\n",
              "3    257  21.6195  19.7186  19.4035  17.8730  18.5650\n",
              "4    256  21.5660  19.9732  19.1927  17.8160  18.5800\n",
              "..   ...      ...      ...      ...      ...      ...\n",
              "255    5  19.4557  18.8380  17.6620  19.3470  16.6000\n",
              "256    4  19.3975  18.8882  17.6661  19.2740  16.5517\n",
              "257    3  19.3627  18.8335  17.7493  19.0800  16.6901\n",
              "258    2  19.4405  19.0177  17.7300  18.8140  16.7540\n",
              "259    1  19.4058  19.1870  17.6675  18.9120  16.8376\n",
              "\n",
              "[260 rows x 6 columns]"
            ]
          },
          "metadata": {
            "tags": []
          },
          "execution_count": 39
        }
      ]
    },
    {
      "cell_type": "code",
      "metadata": {
        "id": "PNSLnfz3Y6Y1",
        "colab_type": "code",
        "colab": {}
      },
      "source": [
        "#Año 5\n",
        "sumx,sumy,sumxy,sumx2,sumy2,st,sr=0,0,0,0,0,0,0 #inicializa las variables\n",
        "n=260 #numero de datos\n",
        "for i in range(n):\n",
        "  sumx+=df['D'][i]\n",
        "  sumy+=df['A5'][i]\n",
        "  sumxy+=float(df['D'][i]*df['A5'][i])\n",
        "  sumx2+=df['D'][i]*df['D'][i]\n",
        "  sumy2+=df['A5'][i]*df['A5'][i]\n",
        "\n",
        "xm,ym=sumx/n,sumy/n #promedio de los valores x, y\n",
        "a1=((n*sumxy)-(sumx*sumy))/((n*sumx2)-(sumx*sumx)) #m\n",
        "a0=ym-a1*xm #b \n",
        "\n",
        "\n",
        "for j in range(n):\n",
        "  st+=(df['A5'][j]-ym)**2\n",
        "  sr+=(df['A5'][j]-a1*df['D'][j]-a0)**2\n",
        "\n",
        "syx=(sr/(n-2))**0.5\n",
        "r2=(st-sr)/st"
      ],
      "execution_count": null,
      "outputs": []
    },
    {
      "cell_type": "code",
      "metadata": {
        "id": "69QWemh-X_SS",
        "colab_type": "code",
        "colab": {
          "base_uri": "https://localhost:8080/",
          "height": 364
        },
        "outputId": "85d82b7f-b753-45c5-d86f-21637eefa9cd"
      },
      "source": [
        "#Grafico de Regresión lineal\n",
        "x,y,aj=[],[],[]\n",
        "for i in range(260):\n",
        "  x.append(df['D'][i])\n",
        "  y.append(df['A5'][i])\n",
        "  aj.append(a1*df['D'][i]+a0)\n",
        "\n",
        "print(\"\\t\\tREGRESIÓN LINEAL AÑO 5\")\n",
        "plt.plot(x,y,'o',label='Datos')\n",
        "plt.plot(x,aj,label='Ajuste')\n",
        "plt.xlabel('X')\n",
        "plt.ylabel('Y')\n",
        "plt.show()\n",
        "\n",
        "print(f\"st= \",st)\n",
        "print(f\"sr= \",sr)\n",
        "print(f\"syx= \",syx)\n",
        "print(f\"r2= \",r2)"
      ],
      "execution_count": null,
      "outputs": [
        {
          "output_type": "stream",
          "text": [
            "\t\tREGRESIÓN LINEAL AÑO 5\n"
          ],
          "name": "stdout"
        },
        {
          "output_type": "display_data",
          "data": {
            "image/png": "[encoded data removed]",
            "text/plain": [
              "<Figure size 432x288 with 1 Axes>"
            ]
          },
          "metadata": {
            "tags": [],
            "needs_background": "light"
          }
        },
        {
          "output_type": "stream",
          "text": [
            "st=  1044.0559505634992\n",
            "sr=  537.4596799591424\n",
            "syx=  1.4433215352461153\n",
            "r2=  0.485219465806345\n"
          ],
          "name": "stdout"
        }
      ]
    },
    {
      "cell_type": "code",
      "metadata": {
        "id": "OD6vciOJdBep",
        "colab_type": "code",
        "colab": {}
      },
      "source": [
        "#Año 4\n",
        "sumx,sumy,sumxy,sumx2,sumy2,st,sr=0,0,0,0,0,0,0 #inicializa las variables\n",
        "n=260 #numero de datos\n",
        "for i in range(n):\n",
        "  sumx+=df['D'][i]\n",
        "  sumy+=df['A4'][i]\n",
        "  sumxy+=float(df['D'][i]*df['A4'][i])\n",
        "  sumx2+=df['D'][i]*df['D'][i]\n",
        "  sumy2+=df['A4'][i]*df['A4'][i]\n",
        "\n",
        "xm,ym=sumx/n,sumy/n #promedio de los valores x, y\n",
        "a1=((n*sumxy)-(sumx*sumy))/((n*sumx2)-(sumx*sumx)) #m\n",
        "a0=ym-a1*xm #b \n",
        "\n",
        "\n",
        "for j in range(n):\n",
        "  st+=(df['A4'][j]-ym)**2\n",
        "  sr+=(df['A4'][j]-a1*df['D'][j]-a0)**2\n",
        "\n",
        "syx=(sr/(n-2))**0.5\n",
        "r2=(st-sr)/st"
      ],
      "execution_count": null,
      "outputs": []
    },
    {
      "cell_type": "code",
      "metadata": {
        "id": "vcY2DMEtdHaG",
        "colab_type": "code",
        "colab": {
          "base_uri": "https://localhost:8080/",
          "height": 364
        },
        "outputId": "4184bdb0-2fc9-4634-ae7d-4492b98151df"
      },
      "source": [
        "#Grafico de regresión lineal\n",
        "x,y,aj=[],[],[]\n",
        "for i in range(260):\n",
        "  x.append(df['D'][i])\n",
        "  y.append(df['A4'][i])\n",
        "  aj.append(a1*df['D'][i]+a0)\n",
        "\n",
        "print(\"\\t\\tREGRESIÓN LINEAL AÑO 4\")\n",
        "plt.plot(x,y,'o',label='Datos')\n",
        "plt.plot(x,aj,label='Ajuste')\n",
        "plt.xlabel('X')\n",
        "plt.ylabel('Y')\n",
        "plt.show()\n",
        "\n",
        "print(f\"st= \",st)\n",
        "print(f\"sr= \",sr)\n",
        "print(f\"syx= \",syx)\n",
        "print(f\"r2= \",r2)"
      ],
      "execution_count": null,
      "outputs": [
        {
          "output_type": "stream",
          "text": [
            "\t\tREGRESIÓN LINEAL AÑO 4\n"
          ],
          "name": "stdout"
        },
        {
          "output_type": "display_data",
          "data": {
            "image/png": "[encoded data removed]",
            "text/plain": [
              "<Figure size 432x288 with 1 Axes>"
            ]
          },
          "metadata": {
            "tags": [],
            "needs_background": "light"
          }
        },
        {
          "output_type": "stream",
          "text": [
            "st=  57.48832895888461\n",
            "sr=  56.48969457803321\n",
            "syx=  0.46792339604471606\n",
            "r2=  0.017371080338160778\n"
          ],
          "name": "stdout"
        }
      ]
    },
    {
      "cell_type": "code",
      "metadata": {
        "id": "lm0BTOIJd_p8",
        "colab_type": "code",
        "colab": {}
      },
      "source": [
        "#Año 3\n",
        "sumx,sumy,sumxy,sumx2,sumy2,st,sr=0,0,0,0,0,0,0 #inicializa las variables\n",
        "n=260 #numero de datos\n",
        "for i in range(n):\n",
        "  sumx+=df['D'][i]\n",
        "  sumy+=df['A3'][i]\n",
        "  sumxy+=float(df['D'][i]*df['A3'][i])\n",
        "  sumx2+=df['D'][i]*df['D'][i]\n",
        "  sumy2+=df['A3'][i]*df['A3'][i]\n",
        "\n",
        "xm,ym=sumx/n,sumy/n #promedio de los valores x, y\n",
        "a1=((n*sumxy)-(sumx*sumy))/((n*sumx2)-(sumx*sumx)) #m\n",
        "a0=ym-a1*xm #b \n",
        "\n",
        "\n",
        "for j in range(n):\n",
        "  st+=(df['A3'][j]-ym)**2\n",
        "  sr+=(df['A3'][j]-a1*df['D'][j]-a0)**2\n",
        "\n",
        "syx=(sr/(n-2))**0.5\n",
        "r2=(st-sr)/st"
      ],
      "execution_count": null,
      "outputs": []
    },
    {
      "cell_type": "code",
      "metadata": {
        "id": "ha6bPFFQeWNk",
        "colab_type": "code",
        "colab": {
          "base_uri": "https://localhost:8080/",
          "height": 365
        },
        "outputId": "a80b10c1-2577-4c5a-8b0c-dadfefb7349d"
      },
      "source": [
        "#Grafico de regresión lineal\n",
        "x,y,aj=[],[],[]\n",
        "for i in range(260):\n",
        "  x.append(df['D'][i])\n",
        "  y.append(df['A3'][i])\n",
        "  aj.append(a1*df['D'][i]+a0)\n",
        "\n",
        "print(\"\\t\\tREGRESIÓN LINEAL AÑO 3\")\n",
        "plt.plot(x,y,'o',label='Datos')\n",
        "plt.plot(x,aj,label='Ajuste')\n",
        "plt.xlabel('X')\n",
        "plt.ylabel('Y')\n",
        "plt.show()\n",
        "\n",
        "print(f\"st= \",st)\n",
        "print(f\"sr= \",sr)\n",
        "print(f\"syx= \",syx)\n",
        "print(f\"r2= \",r2)"
      ],
      "execution_count": null,
      "outputs": [
        {
          "output_type": "stream",
          "text": [
            "\t\tREGRESIÓN LINEAL AÑO 3\n"
          ],
          "name": "stdout"
        },
        {
          "output_type": "display_data",
          "data": {
            "image/png": "[encoded data removed]",
            "text/plain": [
              "<Figure size 432x288 with 1 Axes>"
            ]
          },
          "metadata": {
            "tags": [],
            "needs_background": "light"
          }
        },
        {
          "output_type": "stream",
          "text": [
            "st=  98.53435812446148\n",
            "sr=  85.09397775227131\n",
            "syx=  0.5743009831045477\n",
            "r2=  0.13640298295964182\n"
          ],
          "name": "stdout"
        }
      ]
    },
    {
      "cell_type": "code",
      "metadata": {
        "id": "jWe90KVkePow",
        "colab_type": "code",
        "colab": {}
      },
      "source": [
        "#Año 2\n",
        "sumx,sumy,sumxy,sumx2,sumy2,st,sr=0,0,0,0,0,0,0 #inicializa las variables\n",
        "n=260 #numero de datos\n",
        "for i in range(n):\n",
        "  sumx+=df['D'][i]\n",
        "  sumy+=df['A2'][i]\n",
        "  sumxy+=float(df['D'][i]*df['A2'][i])\n",
        "  sumx2+=df['D'][i]*df['D'][i]\n",
        "  sumy2+=df['A2'][i]*df['A2'][i]\n",
        "\n",
        "xm,ym=sumx/n,sumy/n #promedio de los valores x, y\n",
        "a1=((n*sumxy)-(sumx*sumy))/((n*sumx2)-(sumx*sumx)) #m\n",
        "a0=ym-a1*xm #b \n",
        "\n",
        "\n",
        "for j in range(n):\n",
        "  st+=(df['A2'][j]-ym)**2\n",
        "  sr+=(df['A2'][j]-a1*df['D'][j]-a0)**2\n",
        "\n",
        "syx=(sr/(n-2))**0.5\n",
        "r2=(st-sr)/st"
      ],
      "execution_count": null,
      "outputs": []
    },
    {
      "cell_type": "code",
      "metadata": {
        "id": "kg0WhrxEe2aS",
        "colab_type": "code",
        "colab": {
          "base_uri": "https://localhost:8080/",
          "height": 364
        },
        "outputId": "14b0b72c-2187-4461-e5eb-0f76eb8fd8ff"
      },
      "source": [
        "#Grafico de regresión lineal\n",
        "x,y,aj=[],[],[]\n",
        "for i in range(260):\n",
        "  x.append(df['D'][i])\n",
        "  y.append(df['A2'][i])\n",
        "  aj.append(a1*df['D'][i]+a0)\n",
        "\n",
        "print(\"\\t\\tREGRESIÓN LINEAL AÑO 2\")\n",
        "plt.plot(x,y,'o',label='Datos')\n",
        "plt.plot(x,aj,label='Ajuste')\n",
        "plt.xlabel('X')\n",
        "plt.ylabel('Y')\n",
        "plt.show()\n",
        "\n",
        "print(f\"st= \",st)\n",
        "print(f\"sr= \",sr)\n",
        "print(f\"syx= \",syx)\n",
        "print(f\"r2= \",r2)"
      ],
      "execution_count": null,
      "outputs": [
        {
          "output_type": "stream",
          "text": [
            "\t\tREGRESIÓN LINEAL AÑO 2\n"
          ],
          "name": "stdout"
        },
        {
          "output_type": "display_data",
          "data": {
            "image/png": "[encoded data removed]",
            "text/plain": [
              "<Figure size 432x288 with 1 Axes>"
            ]
          },
          "metadata": {
            "tags": [],
            "needs_background": "light"
          }
        },
        {
          "output_type": "stream",
          "text": [
            "st=  344.6959411576538\n",
            "sr=  191.42447143595192\n",
            "syx=  0.8613682810756527\n",
            "r2=  0.44465701918897854\n"
          ],
          "name": "stdout"
        }
      ]
    },
    {
      "cell_type": "code",
      "metadata": {
        "id": "7Fz-EENCekKx",
        "colab_type": "code",
        "colab": {}
      },
      "source": [
        "#Año 1\n",
        "sumx,sumy,sumxy,sumx2,sumy2,st,sr=0,0,0,0,0,0,0 #inicializa las variables\n",
        "n=260 #numero de datos\n",
        "for i in range(n):\n",
        "  sumx+=df['D'][i]\n",
        "  sumy+=df['A1'][i]\n",
        "  sumxy+=float(df['D'][i]*df['A1'][i])\n",
        "  sumx2+=df['D'][i]*df['D'][i]\n",
        "  sumy2+=df['A1'][i]*df['A1'][i]\n",
        "\n",
        "xm,ym=sumx/n,sumy/n #promedio de los valores x, y\n",
        "a1=((n*sumxy)-(sumx*sumy))/((n*sumx2)-(sumx*sumx)) #m\n",
        "a0=ym-a1*xm #b \n",
        "\n",
        "\n",
        "for j in range(n):\n",
        "  st+=(df['A1'][j]-ym)**2\n",
        "  sr+=(df['A1'][j]-a1*df['D'][j]-a0)**2\n",
        "\n",
        "syx=(sr/(n-2))**0.5\n",
        "r2=(st-sr)/st"
      ],
      "execution_count": null,
      "outputs": []
    },
    {
      "cell_type": "code",
      "metadata": {
        "id": "z3yuc-_He8Qs",
        "colab_type": "code",
        "colab": {
          "base_uri": "https://localhost:8080/",
          "height": 364
        },
        "outputId": "8e7642f9-41b3-406e-8118-d66901df6098"
      },
      "source": [
        "#Grafico de regresión lineal\n",
        "x,y,aj=[],[],[]\n",
        "for i in range(260):\n",
        "  x.append(df['D'][i])\n",
        "  y.append(df['A1'][i])\n",
        "  aj.append(a1*df['D'][i]+a0)\n",
        "\n",
        "print(\"\\t\\tREGRESIÓN LINEAL AÑO 1\")\n",
        "plt.plot(x,y,'o',label='Datos')\n",
        "plt.plot(x,aj,label='Ajuste')\n",
        "plt.xlabel('X')\n",
        "plt.ylabel('Y')\n",
        "plt.show()\n",
        "\n",
        "print(f\"st= \",st)\n",
        "print(f\"sr= \",sr)\n",
        "print(f\"syx= \",syx)\n",
        "print(f\"r2= \",r2)"
      ],
      "execution_count": null,
      "outputs": [
        {
          "output_type": "stream",
          "text": [
            "\t\tREGRESIÓN LINEAL AÑO 1\n"
          ],
          "name": "stdout"
        },
        {
          "output_type": "display_data",
          "data": {
            "image/png": "[encoded data removed]",
            "text/plain": [
              "<Figure size 432x288 with 1 Axes>"
            ]
          },
          "metadata": {
            "tags": [],
            "needs_background": "light"
          }
        },
        {
          "output_type": "stream",
          "text": [
            "st=  163.4550752699615\n",
            "sr=  56.5038712139613\n",
            "syx=  0.46798210731532447\n",
            "r2=  0.6543155902584253\n"
          ],
          "name": "stdout"
        }
      ]
    },
    {
      "cell_type": "code",
      "metadata": {
        "id": "teXSLVnCfPsR",
        "colab_type": "code",
        "colab": {}
      },
      "source": [
        ""
      ],
      "execution_count": null,
      "outputs": []
    }
  ]
}